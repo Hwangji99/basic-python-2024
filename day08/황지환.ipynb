{
 "cells": [
  {
   "cell_type": "markdown",
   "metadata": {},
   "source": [
    "## 1번 문제"
   ]
  },
  {
   "cell_type": "code",
   "execution_count": null,
   "metadata": {},
   "outputs": [],
   "source": [
    "# 1번 문제\n",
    "\n",
    "# import math\n",
    "\n",
    "# PI = 3.141592\n",
    "# radius = 5\n",
    "\n",
    "# print(f'원의 크기는 {radius * radius * PI}')\n",
    "\n",
    "# 문제풀이 (강사님 왈) \n",
    "# 틀린 이유 : 입력값을 받아야 하는데 input()을 안쓰고 값이 이미 넣어버렸음\n",
    "\n",
    "import math\n",
    "\n",
    "radius = int(input('반지름 입력'))\n",
    "print(f'원의 넓이는 {radius * radius * math.pi}')"
   ]
  },
  {
   "cell_type": "markdown",
   "metadata": {},
   "source": [
    "## 2번 문제"
   ]
  },
  {
   "cell_type": "code",
   "execution_count": 61,
   "metadata": {},
   "outputs": [],
   "source": [
    "# 2번 문제\n",
    "\n",
    "# ict_planet = { 'Mercury': '수성', 'Venus': '금성','Earth': '지구', \n",
    "#               'Mars': '화성', 'Jupiter': '목성', 'Saturn': '토성', \n",
    "#                 'Uranus': '천왕성', 'Neptune': '해왕성'}\n",
    "\n",
    "# try:\n",
    "#     print('행성의 영어 이름 입력 > ', ict_planet[input()])\n",
    "# except:\n",
    "#     pass\n",
    "\n",
    "# 문제풀이\n",
    "\n",
    "solar = { 'Mercury': '수성', 'Venus': '금성','Earth': '지구', \n",
    "          'Mars': '화성', 'Jupiter': '목성', 'Saturn': '토성', \n",
    "          'Uranus': '천왕성', 'Neptune': '해왕성'}\n",
    "kname = input('행성이름(한글) 입력 > ')\n",
    "print(solar[kname])\n",
    "\n",
    "\n",
    "# planet = input('행성의 영어 이름 입력 > ')\n",
    "# if planet == 'Mercury':\n",
    "#     print('수성')\n",
    "# elif planet == 'Venus':\n",
    "#     print('금성')\n",
    "# elif planet == 'Earth':\n",
    "#     print('지구')\n",
    "# elif planet == 'Mars':\n",
    "#     print('화성')\n",
    "# elif planet == 'Jupiter':\n",
    "#     print('목성')\n",
    "# elif planet == 'Saturn':\n",
    "#     print('토성')\n",
    "# elif planet == 'Uranus':\n",
    "#     print('천왕성')\n",
    "# elif planet == 'Neptune':\n",
    "#     print('해왕성')\n",
    "# else:\n",
    "#     pass"
   ]
  },
  {
   "cell_type": "markdown",
   "metadata": {},
   "source": [
    "## 3번 문제"
   ]
  },
  {
   "cell_type": "code",
   "execution_count": null,
   "metadata": {},
   "outputs": [],
   "source": [
    "# 3번 문제\n",
    "\n",
    "# string_1 = input('원하는 문장을 입력하시오 : ')\n",
    "# string_2 = string_1.split(' ')\n",
    "# print(string_1, f'= {len(string_2)}')\n",
    "\n",
    "# for i in range(0, len(string_2)):\n",
    "#     if i % 2 == 0:\n",
    "#         print(string_2[i].lower(), end=' ')\n",
    "#     else:\n",
    "#         print(string_2[i].upper(), end=' ')\n",
    "\n",
    "\n",
    "# 문제풀이\n",
    "# 첫번째 풀이\n",
    "\n",
    "sentence = input('영어 문장 입력 > ')\n",
    "sentences = sentence.split(' ')\n",
    "print(f'단어 수 : {len(sentences)}')\n",
    "\n",
    "num = 1\n",
    "for i in sentences:\n",
    "    if(num % 2 == 0):\n",
    "        print(i.upper(), end=' ')\n",
    "    else:\n",
    "        print(i, end=' ') # 줄은 안내리고 이어서 출력할 수 있다\n",
    "    num += 1\n"
   ]
  },
  {
   "cell_type": "markdown",
   "metadata": {},
   "source": [
    "## 4번 문제"
   ]
  },
  {
   "cell_type": "code",
   "execution_count": null,
   "metadata": {},
   "outputs": [],
   "source": [
    "# 4번 문제\n",
    "# 문제풀이 (시작도 몬함)\n",
    "\n",
    "def get_url(name):\n",
    "    return f'www.{name}.com'\n",
    "\n",
    "inname = input('웹사이트 이름 입력 > ')\n",
    "url = get_url(inname)\n",
    "print(url)"
   ]
  },
  {
   "cell_type": "markdown",
   "metadata": {},
   "source": [
    "## 5번 문제"
   ]
  },
  {
   "cell_type": "code",
   "execution_count": null,
   "metadata": {},
   "outputs": [],
   "source": [
    "# 5번 문제\n",
    "# a = int(input())\n",
    "# print(a, '--> ')\n",
    "# for y in range(1, 10):\n",
    "#     print(a*y, end='  ')\n",
    "# print()\n",
    "\n",
    "# 문제풀이\n",
    "\n",
    "dan_num = int(input('구구단 단번호 입력 > '))\n",
    "\n",
    "print(dan_num, end=' --> ')\n",
    "for i in range(1, 10):\n",
    "    print(dan_num * i, end=' ')"
   ]
  }
 ],
 "metadata": {
  "kernelspec": {
   "display_name": "Python 3",
   "language": "python",
   "name": "python3"
  },
  "language_info": {
   "codemirror_mode": {
    "name": "ipython",
    "version": 3
   },
   "file_extension": ".py",
   "mimetype": "text/x-python",
   "name": "python",
   "nbconvert_exporter": "python",
   "pygments_lexer": "ipython3",
   "version": "3.11.5"
  }
 },
 "nbformat": 4,
 "nbformat_minor": 2
}

{
 "cells": [
  {
   "cell_type": "markdown",
   "metadata": {},
   "source": [
    "## 1번 문제"
   ]
  },
  {
   "cell_type": "code",
   "execution_count": 1,
   "metadata": {},
   "outputs": [
    {
     "name": "stdout",
     "output_type": "stream",
     "text": [
      "원의 크기는 78.5398\n"
     ]
    }
   ],
   "source": [
    "# 1번 문제\n",
    "import math\n",
    "PI = 3.141592\n",
    "radius = 5\n",
    "print(f'원의 크기는 {radius * radius * PI}')"
   ]
  },
  {
   "cell_type": "markdown",
   "metadata": {},
   "source": [
    "## 2번 문제"
   ]
  },
  {
   "cell_type": "code",
   "execution_count": 61,
   "metadata": {},
   "outputs": [],
   "source": [
    "# 2번 문제\n",
    "\n",
    "ict_planet = { 'Mercury': '수성', 'Venus': '금성','Earth': '지구', \n",
    "              'Mars': '화성', 'Jupiter': '목성', 'Saturn': '토성', \n",
    "                'Uranus': '천왕성', 'Neptune': '해왕성'}\n",
    "\n",
    "try:\n",
    "    print('행성의 영어 이름 입력 > ', ict_planet[input()])\n",
    "except:\n",
    "    pass\n",
    "\n",
    "\n",
    "\n",
    "\n",
    "\n",
    "\n",
    "\n",
    "# planet = input('행성의 영어 이름 입력 > ')\n",
    "# if planet == 'Mercury':\n",
    "#     print('수성')\n",
    "# elif planet == 'Venus':\n",
    "#     print('금성')\n",
    "# elif planet == 'Earth':\n",
    "#     print('지구')\n",
    "# elif planet == 'Mars':\n",
    "#     print('화성')\n",
    "# elif planet == 'Jupiter':\n",
    "#     print('목성')\n",
    "# elif planet == 'Saturn':\n",
    "#     print('토성')\n",
    "# elif planet == 'Uranus':\n",
    "#     print('천왕성')\n",
    "# elif planet == 'Neptune':\n",
    "#     print('해왕성')\n",
    "# else:\n",
    "#     pass"
   ]
  },
  {
   "cell_type": "markdown",
   "metadata": {},
   "source": [
    "## 3번 문제"
   ]
  },
  {
   "cell_type": "code",
   "execution_count": null,
   "metadata": {},
   "outputs": [],
   "source": [
    "# 3번 문제\n",
    "string_1 = input('원하는 문장을 입력하시오 : ')\n",
    "string_2 = string_1.split(' ')\n",
    "print(string_1, f'= {len(string_2)}')\n",
    "\n",
    "for i in range(0, len(string_2)):\n",
    "    if i % 2 == 0:\n",
    "        print(string_2[i].upper(), end=' ')\n",
    "    else:\n",
    "        print(string_2[i].lower(), end=' ')\n"
   ]
  },
  {
   "cell_type": "markdown",
   "metadata": {},
   "source": [
    "## 4번 문제"
   ]
  },
  {
   "cell_type": "code",
   "execution_count": 68,
   "metadata": {},
   "outputs": [],
   "source": [
    "# 4번 문제\n"
   ]
  },
  {
   "cell_type": "markdown",
   "metadata": {},
   "source": [
    "## 5번 문제"
   ]
  },
  {
   "cell_type": "code",
   "execution_count": 69,
   "metadata": {},
   "outputs": [
    {
     "ename": "ValueError",
     "evalue": "invalid literal for int() with base 10: ''",
     "output_type": "error",
     "traceback": [
      "\u001b[1;31m---------------------------------------------------------------------------\u001b[0m",
      "\u001b[1;31mValueError\u001b[0m                                Traceback (most recent call last)",
      "Cell \u001b[1;32mIn[69], line 2\u001b[0m\n\u001b[0;32m      1\u001b[0m \u001b[38;5;66;03m# 5번 문제\u001b[39;00m\n\u001b[1;32m----> 2\u001b[0m a \u001b[38;5;241m=\u001b[39m \u001b[38;5;28;43mint\u001b[39;49m\u001b[43m(\u001b[49m\u001b[38;5;28;43minput\u001b[39;49m\u001b[43m(\u001b[49m\u001b[43m)\u001b[49m\u001b[43m)\u001b[49m\n\u001b[0;32m      3\u001b[0m \u001b[38;5;28mprint\u001b[39m(a, \u001b[38;5;124m'\u001b[39m\u001b[38;5;124m--> \u001b[39m\u001b[38;5;124m'\u001b[39m)\n\u001b[0;32m      4\u001b[0m \u001b[38;5;28;01mfor\u001b[39;00m y \u001b[38;5;129;01min\u001b[39;00m \u001b[38;5;28mrange\u001b[39m(\u001b[38;5;241m1\u001b[39m, \u001b[38;5;241m10\u001b[39m):\n",
      "\u001b[1;31mValueError\u001b[0m: invalid literal for int() with base 10: ''"
     ]
    }
   ],
   "source": [
    "# 5번 문제\n",
    "a = int(input())\n",
    "print(a, '--> ')\n",
    "for y in range(1, 10):\n",
    "    print(a*y, end='  ')\n",
    "print()"
   ]
  }
 ],
 "metadata": {
  "kernelspec": {
   "display_name": "Python 3",
   "language": "python",
   "name": "python3"
  },
  "language_info": {
   "codemirror_mode": {
    "name": "ipython",
    "version": 3
   },
   "file_extension": ".py",
   "mimetype": "text/x-python",
   "name": "python",
   "nbconvert_exporter": "python",
   "pygments_lexer": "ipython3",
   "version": "3.11.5"
  }
 },
 "nbformat": 4,
 "nbformat_minor": 2
}
